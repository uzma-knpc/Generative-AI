{
  "cells": [
    {
      "cell_type": "markdown",
      "metadata": {
        "id": "view-in-github",
        "colab_type": "text"
      },
      "source": [
        "<a href=\"https://colab.research.google.com/github/uzma-knpc/Generative-AI/blob/main/MedicalImagesAEMC.ipynb\" target=\"_parent\"><img src=\"https://colab.research.google.com/assets/colab-badge.svg\" alt=\"Open In Colab\"/></a>"
      ]
    },
    {
      "cell_type": "markdown",
      "metadata": {
        "id": "Os-OJ_8ySpgr"
      },
      "source": [
        "### Medical Images Diagnosis with Report(Finetune modal)"
      ]
    },
    {
      "cell_type": "code",
      "execution_count": 40,
      "metadata": {
        "colab": {
          "base_uri": "https://localhost:8080/"
        },
        "collapsed": true,
        "id": "QeQQ9ohuUMqS",
        "outputId": "258d0fd4-ce4d-4c1d-bdd1-ee9641937827"
      },
      "outputs": [
        {
          "output_type": "stream",
          "name": "stdout",
          "text": [
            "\u001b[31mERROR: pip's dependency resolver does not currently take into account all the packages that are installed. This behaviour is the source of the following dependency conflicts.\n",
            "facenet-pytorch 2.6.0 requires Pillow<10.3.0,>=10.2.0, but you have pillow 11.1.0 which is incompatible.\u001b[0m\u001b[31m\n",
            "\u001b[0m"
          ]
        }
      ],
      "source": [
        "!pip install -Uq facenet-pytorch\n",
        "!pip install -Uq pillow"
      ]
    },
    {
      "cell_type": "code",
      "source": [
        "!pip install -U google-generativeai"
      ],
      "metadata": {
        "collapsed": true,
        "colab": {
          "base_uri": "https://localhost:8080/"
        },
        "id": "6BUSRfPgL8_k",
        "outputId": "3db5dfd3-f1f5-4993-a9b3-e607800fa13e"
      },
      "execution_count": 41,
      "outputs": [
        {
          "output_type": "stream",
          "name": "stdout",
          "text": [
            "Requirement already satisfied: google-generativeai in /usr/local/lib/python3.11/dist-packages (0.8.3)\n",
            "Requirement already satisfied: google-ai-generativelanguage==0.6.10 in /usr/local/lib/python3.11/dist-packages (from google-generativeai) (0.6.10)\n",
            "Requirement already satisfied: google-api-core in /usr/local/lib/python3.11/dist-packages (from google-generativeai) (2.19.2)\n",
            "Requirement already satisfied: google-api-python-client in /usr/local/lib/python3.11/dist-packages (from google-generativeai) (2.155.0)\n",
            "Requirement already satisfied: google-auth>=2.15.0 in /usr/local/lib/python3.11/dist-packages (from google-generativeai) (2.27.0)\n",
            "Requirement already satisfied: protobuf in /usr/local/lib/python3.11/dist-packages (from google-generativeai) (4.25.5)\n",
            "Requirement already satisfied: pydantic in /usr/local/lib/python3.11/dist-packages (from google-generativeai) (2.10.5)\n",
            "Requirement already satisfied: tqdm in /usr/local/lib/python3.11/dist-packages (from google-generativeai) (4.67.1)\n",
            "Requirement already satisfied: typing-extensions in /usr/local/lib/python3.11/dist-packages (from google-generativeai) (4.12.2)\n",
            "Requirement already satisfied: proto-plus<2.0.0dev,>=1.22.3 in /usr/local/lib/python3.11/dist-packages (from google-ai-generativelanguage==0.6.10->google-generativeai) (1.25.0)\n",
            "Requirement already satisfied: googleapis-common-protos<2.0.dev0,>=1.56.2 in /usr/local/lib/python3.11/dist-packages (from google-api-core->google-generativeai) (1.66.0)\n",
            "Requirement already satisfied: requests<3.0.0.dev0,>=2.18.0 in /usr/local/lib/python3.11/dist-packages (from google-api-core->google-generativeai) (2.32.3)\n",
            "Requirement already satisfied: cachetools<6.0,>=2.0.0 in /usr/local/lib/python3.11/dist-packages (from google-auth>=2.15.0->google-generativeai) (5.5.0)\n",
            "Requirement already satisfied: pyasn1-modules>=0.2.1 in /usr/local/lib/python3.11/dist-packages (from google-auth>=2.15.0->google-generativeai) (0.4.1)\n",
            "Requirement already satisfied: rsa<5,>=3.1.4 in /usr/local/lib/python3.11/dist-packages (from google-auth>=2.15.0->google-generativeai) (4.9)\n",
            "Requirement already satisfied: httplib2<1.dev0,>=0.19.0 in /usr/local/lib/python3.11/dist-packages (from google-api-python-client->google-generativeai) (0.22.0)\n",
            "Requirement already satisfied: google-auth-httplib2<1.0.0,>=0.2.0 in /usr/local/lib/python3.11/dist-packages (from google-api-python-client->google-generativeai) (0.2.0)\n",
            "Requirement already satisfied: uritemplate<5,>=3.0.1 in /usr/local/lib/python3.11/dist-packages (from google-api-python-client->google-generativeai) (4.1.1)\n",
            "Requirement already satisfied: annotated-types>=0.6.0 in /usr/local/lib/python3.11/dist-packages (from pydantic->google-generativeai) (0.7.0)\n",
            "Requirement already satisfied: pydantic-core==2.27.2 in /usr/local/lib/python3.11/dist-packages (from pydantic->google-generativeai) (2.27.2)\n",
            "Requirement already satisfied: grpcio<2.0dev,>=1.33.2 in /usr/local/lib/python3.11/dist-packages (from google-api-core[grpc]!=2.0.*,!=2.1.*,!=2.10.*,!=2.2.*,!=2.3.*,!=2.4.*,!=2.5.*,!=2.6.*,!=2.7.*,!=2.8.*,!=2.9.*,<3.0.0dev,>=1.34.1->google-ai-generativelanguage==0.6.10->google-generativeai) (1.67.1)\n",
            "Requirement already satisfied: grpcio-status<2.0.dev0,>=1.33.2 in /usr/local/lib/python3.11/dist-packages (from google-api-core[grpc]!=2.0.*,!=2.1.*,!=2.10.*,!=2.2.*,!=2.3.*,!=2.4.*,!=2.5.*,!=2.6.*,!=2.7.*,!=2.8.*,!=2.9.*,<3.0.0dev,>=1.34.1->google-ai-generativelanguage==0.6.10->google-generativeai) (1.62.3)\n",
            "Requirement already satisfied: pyparsing!=3.0.0,!=3.0.1,!=3.0.2,!=3.0.3,<4,>=2.4.2 in /usr/local/lib/python3.11/dist-packages (from httplib2<1.dev0,>=0.19.0->google-api-python-client->google-generativeai) (3.2.1)\n",
            "Requirement already satisfied: pyasn1<0.7.0,>=0.4.6 in /usr/local/lib/python3.11/dist-packages (from pyasn1-modules>=0.2.1->google-auth>=2.15.0->google-generativeai) (0.6.1)\n",
            "Requirement already satisfied: charset-normalizer<4,>=2 in /usr/local/lib/python3.11/dist-packages (from requests<3.0.0.dev0,>=2.18.0->google-api-core->google-generativeai) (3.4.1)\n",
            "Requirement already satisfied: idna<4,>=2.5 in /usr/local/lib/python3.11/dist-packages (from requests<3.0.0.dev0,>=2.18.0->google-api-core->google-generativeai) (3.10)\n",
            "Requirement already satisfied: urllib3<3,>=1.21.1 in /usr/local/lib/python3.11/dist-packages (from requests<3.0.0.dev0,>=2.18.0->google-api-core->google-generativeai) (2.3.0)\n",
            "Requirement already satisfied: certifi>=2017.4.17 in /usr/local/lib/python3.11/dist-packages (from requests<3.0.0.dev0,>=2.18.0->google-api-core->google-generativeai) (2024.12.14)\n"
          ]
        }
      ]
    },
    {
      "cell_type": "code",
      "source": [
        "import google.generativeai as genai\n",
        "from google.colab import userdata\n",
        "GOOGLE_API_KEY=userdata.get('GOOGLE_API_KEY')\n",
        "genai.configure(api_key=GOOGLE_API_KEY)"
      ],
      "metadata": {
        "id": "-Nq522RJMdVx"
      },
      "execution_count": 43,
      "outputs": []
    },
    {
      "cell_type": "code",
      "source": [],
      "metadata": {
        "id": "0RXZfLImMqh-"
      },
      "execution_count": 4,
      "outputs": []
    },
    {
      "cell_type": "code",
      "source": [
        "import google.generativeai as genai\n",
        "import os"
      ],
      "metadata": {
        "id": "3eKkp4OAMQxQ"
      },
      "execution_count": 44,
      "outputs": []
    },
    {
      "cell_type": "code",
      "execution_count": 45,
      "metadata": {
        "id": "VLF-hrWBKmod"
      },
      "outputs": [],
      "source": [
        "import torch\n",
        "import torch.nn as nn\n",
        "import torchvision.models as models\n",
        "\n",
        "import torchvision.transforms as transforms\n",
        "from PIL import Image"
      ]
    },
    {
      "cell_type": "code",
      "execution_count": 48,
      "metadata": {
        "collapsed": true,
        "id": "22HAeuDqTolW"
      },
      "outputs": [],
      "source": [
        "from facenet_pytorch import MTCNN, InceptionResnetV1\n",
        "\n",
        "# Load the pre-trained InceptionResnetV1 model\n",
        "model = InceptionResnetV1(pretrained='vggface2').eval()\n",
        "\n"
      ]
    },
    {
      "cell_type": "code",
      "execution_count": 49,
      "metadata": {
        "id": "YtY6raX6Vrsp"
      },
      "outputs": [],
      "source": [
        "import torch\n",
        "from torch import nn\n",
        "from torchvision import transforms, datasets\n",
        "from torch.utils.data import DataLoader\n",
        "from facenet_pytorch import InceptionResnetV1\n",
        "\n",
        "\n",
        "# Preprocessing function to transform the image into a tensor\n",
        "def preprocess_image(image_path):\n",
        "    image = Image.open(image_path).convert('RGB')\n",
        "    preprocess = transforms.Compose([\n",
        "        transforms.Resize((224, 224)),\n",
        "        transforms.ToTensor(),\n",
        "        transforms.Normalize(mean=[0.485, 0.456, 0.406], std=[0.229, 0.224, 0.225]),\n",
        "    ])\n",
        "    return preprocess(image).unsqueeze(0)\n",
        "\n"
      ]
    },
    {
      "cell_type": "code",
      "execution_count": 9,
      "metadata": {
        "id": "lUn-Q3zi2Esd"
      },
      "outputs": [],
      "source": [
        "# Function to create image embeddings\n",
        "def create_image_embedding(image_path):\n",
        "    try:\n",
        "        input_tensor = preprocess_image(image_path)\n",
        "        with torch.no_grad():\n",
        "            embeddings = model(input_tensor)# ebedding important line\n",
        "        return embeddings.squeeze().numpy()\n",
        "    except Exception as e:\n",
        "        print(\"Error:\", e)\n",
        "        return None\n",
        "# Save the fine-tuned model\n",
        "torch.save(model.state_dict(), \"fine_tuned_inception_resnet_v1.pth\")\n"
      ]
    },
    {
      "cell_type": "code",
      "execution_count": 50,
      "metadata": {
        "id": "_0AcRHbRVslq",
        "colab": {
          "base_uri": "https://localhost:8080/"
        },
        "outputId": "48a31dc8-0a12-4a49-ad38-2a18fe7d4f27"
      },
      "outputs": [
        {
          "output_type": "stream",
          "name": "stdout",
          "text": [
            "mkdir: cannot create directory ‘images’: File exists\n"
          ]
        }
      ],
      "source": [
        "!mkdir images"
      ]
    },
    {
      "cell_type": "code",
      "execution_count": 51,
      "metadata": {
        "id": "dhtkU-0lV1-O"
      },
      "outputs": [],
      "source": [
        "# prompt: create python function where we provide image url and imag_name then it save in images folder\n",
        "\n",
        "import requests\n",
        "import os\n",
        "\n",
        "def save_image_from_url(image_url, image_name):\n",
        "  \"\"\"\n",
        "  Downloads an image from a URL and saves it to the 'images' folder.\n",
        "\n",
        "  Args:\n",
        "    image_url: The URL of the image to download.\n",
        "    image_name: The name of the file to save the image as.\n",
        "  \"\"\"\n",
        "  try:\n",
        "    if not os.path.exists(\"images\"):\n",
        "      os.makedirs(\"images\")\n",
        "\n",
        "    image_path = os.path.join(\"images\", image_name)\n",
        "\n",
        "    response = requests.get(image_url, stream=True)\n",
        "    response.raise_for_status()  # Raise an exception for bad status codes\n",
        "\n",
        "   #chunks\n",
        "    with open(image_path, 'wb') as file:\n",
        "      for chunk in response.iter_content(chunk_size=8192):\n",
        "        file.write(chunk)\n",
        "\n",
        "    print(f\"Image saved to: {image_path}\")\n",
        "  except requests.exceptions.RequestException as e:\n",
        "    print(f\"Error downloading image: {e}\")\n",
        "  except Exception as e:\n",
        "    print(f\"An error occurred: {e}\")\n"
      ]
    },
    {
      "cell_type": "markdown",
      "metadata": {
        "id": "8LlqiryzQ4lc"
      },
      "source": [
        "# Images loaded from net"
      ]
    },
    {
      "cell_type": "code",
      "execution_count": 92,
      "metadata": {
        "colab": {
          "base_uri": "https://localhost:8080/"
        },
        "collapsed": true,
        "id": "01gSmY8gX8ep",
        "outputId": "b4721022-b030-4b99-be60-8904d7f351f0"
      },
      "outputs": [
        {
          "output_type": "stream",
          "name": "stdout",
          "text": [
            "Image saved to: images/Renel.jpg\n"
          ]
        }
      ],
      "source": [
        "#save_image_from_url(\"https://prod-images-static.radiopaedia.org/images/48689902/0c2f5f49d11eb7d8a898cd79a70054_gallery.jpeg\", \"Nlung.jpg\")\n",
        "save_image_from_url(\"https://media.springernature.com/lw685/springer-static/image/chp%3A10.1007%2F978-1-4614-8654-1_10/MediaObjects/217843_1_En_10_Fig2_HTML.jpg\", \"Renel.jpg\")\n",
        "#save_image_from_url(\"https://encrypted-tbn0.gstatic.com/images?q=tbn:ANd9GcRC9F_G4u8lJJ8O-c00QZp7AdhzPPhNxPDdKA&s\",\"DMSAscan.jpg\")\n",
        "#save_image_from_url(\"https://ars.els-cdn.com/content/image/1-s2.0-S1930043318306022-gr1.jpg\",\"lungscan.jpg\")\n",
        "#save_image_from_url(\"https://img.medscapestatic.com/pi/meds/ckb/51/26751tn.jpg\",\"Bonescan.jpg\",\"BS.jpg\")\n",
        "#save_image_from_url(\"https://ars.els-cdn.com/content/image/1-s2.0-S0001299823000296-gr2.jpg\",'Thyroidscan.jpg')\n",
        "#print(\"Image saved to:\"/Users/uzmailyas/thy.jpeg\",image_path)\n",
        "#save_image_from_url(\"https://pub.mdpi-res.com/applsci/applsci-12-00698/article_deploy/html/images/applsci-12-00698-g001.png?1642052715\",\"RenelScan.jpg\")"
      ]
    },
    {
      "cell_type": "markdown",
      "metadata": {
        "id": "n4fityNUQd76"
      },
      "source": [
        "# EMBEDDING"
      ]
    },
    {
      "cell_type": "markdown",
      "source": [],
      "metadata": {
        "id": "GC0rNWCUgKJR"
      }
    },
    {
      "cell_type": "code",
      "execution_count": 93,
      "metadata": {
        "id": "qGsGyHm7Z7GG",
        "colab": {
          "base_uri": "https://localhost:8080/"
        },
        "outputId": "553f9f06-e5ee-4ce4-8b70-2d69ccc04d85"
      },
      "outputs": [
        {
          "output_type": "stream",
          "name": "stdout",
          "text": [
            "Error: [Errno 2] No such file or directory: './images/renel.jpg'\n"
          ]
        }
      ],
      "source": [
        "#d = create_image_embedding(\"./images/DMSAscan.jpg\")\n",
        "m = create_image_embedding(\"./images/renel.jpg\")\n",
        "#l = create_image_embedding(\"./images/lungscan.jpg\")\n",
        "#n = create_image_embedding(\"./images/Nlung.jpg\")\n",
        "#t = create_image_embedding(\"./images/Thyroidscan.jpg\")\n",
        "#r = create_image_embedding(\"./images/RenelScan.jpg\")"
      ]
    },
    {
      "cell_type": "code",
      "execution_count": 80,
      "metadata": {
        "colab": {
          "base_uri": "https://localhost:8080/"
        },
        "collapsed": true,
        "id": "EaGMoOeMatEn",
        "outputId": "59abb05c-cce2-484d-cf13-787fb37ad835"
      },
      "outputs": [
        {
          "output_type": "stream",
          "name": "stdout",
          "text": [
            "Requirement already satisfied: milvus-lite in /usr/local/lib/python3.11/dist-packages (2.4.11)\n",
            "Requirement already satisfied: tqdm in /usr/local/lib/python3.11/dist-packages (from milvus-lite) (4.67.1)\n",
            "Requirement already satisfied: pymilvus in /usr/local/lib/python3.11/dist-packages (2.5.3)\n",
            "Requirement already satisfied: setuptools>69 in /usr/local/lib/python3.11/dist-packages (from pymilvus) (75.1.0)\n",
            "Requirement already satisfied: grpcio<=1.67.1,>=1.49.1 in /usr/local/lib/python3.11/dist-packages (from pymilvus) (1.67.1)\n",
            "Requirement already satisfied: protobuf>=3.20.0 in /usr/local/lib/python3.11/dist-packages (from pymilvus) (4.25.5)\n",
            "Requirement already satisfied: python-dotenv<2.0.0,>=1.0.1 in /usr/local/lib/python3.11/dist-packages (from pymilvus) (1.0.1)\n",
            "Requirement already satisfied: ujson>=2.0.0 in /usr/local/lib/python3.11/dist-packages (from pymilvus) (5.10.0)\n",
            "Requirement already satisfied: pandas>=1.2.4 in /usr/local/lib/python3.11/dist-packages (from pymilvus) (2.2.2)\n",
            "Requirement already satisfied: milvus-lite>=2.4.0 in /usr/local/lib/python3.11/dist-packages (from pymilvus) (2.4.11)\n",
            "Requirement already satisfied: tqdm in /usr/local/lib/python3.11/dist-packages (from milvus-lite>=2.4.0->pymilvus) (4.67.1)\n",
            "Requirement already satisfied: numpy>=1.23.2 in /usr/local/lib/python3.11/dist-packages (from pandas>=1.2.4->pymilvus) (1.26.4)\n",
            "Requirement already satisfied: python-dateutil>=2.8.2 in /usr/local/lib/python3.11/dist-packages (from pandas>=1.2.4->pymilvus) (2.8.2)\n",
            "Requirement already satisfied: pytz>=2020.1 in /usr/local/lib/python3.11/dist-packages (from pandas>=1.2.4->pymilvus) (2024.2)\n",
            "Requirement already satisfied: tzdata>=2022.7 in /usr/local/lib/python3.11/dist-packages (from pandas>=1.2.4->pymilvus) (2024.2)\n",
            "Requirement already satisfied: six>=1.5 in /usr/local/lib/python3.11/dist-packages (from python-dateutil>=2.8.2->pandas>=1.2.4->pymilvus) (1.17.0)\n"
          ]
        }
      ],
      "source": [
        "!pip install -U milvus-lite\n",
        "\n",
        "!pip install -U pymilvus\n"
      ]
    },
    {
      "cell_type": "code",
      "execution_count": 94,
      "metadata": {
        "id": "YBPZRMthRumC"
      },
      "outputs": [],
      "source": [
        "# Paths to your uploaded images and titles\n",
        "file_paths = [\n",
        "   # \"images/DMSAscan.jpg\",\n",
        "    \"images/Renel.jpg\",\n",
        "   # \"images/lungscan.jpg\",\n",
        "   # \"images/Thyroidscan.jpg\",\n",
        "   # \"images/RenelScan.jpg\" ,\n",
        "   # \"images/Nlung.jpg\" ,  # Replace with actual file paths for each image\n",
        "\n",
        "]\n",
        "titles = [\n",
        "   # \"DMSA Scan (ID: 1)\",\n",
        "    \"Renel Scan (ID: 2)\",\n",
        "    #\"Lung Scan (ID: 3)\",\n",
        "   # \"Thyroid Scan (ID: 4)\",\n",
        "   # \"Renal Scan (ID: 5)\",\n",
        "   # \"NormalScan (ID: 6)\",\n",
        "]"
      ]
    },
    {
      "cell_type": "code",
      "execution_count": 102,
      "metadata": {
        "id": "As75VHGUJ9WQ"
      },
      "outputs": [],
      "source": [
        "import matplotlib.pyplot as plt\n",
        "import numpy as np\n",
        "from PIL import Image\n",
        "import datetime\n",
        "\n",
        "# Function to load an image and convert it to grayscale\n",
        "def load_image(file_path):\n",
        "    img = Image.open(file_path).convert(\"L\")\n",
        "    img_array = np.array(img)\n",
        "    return img_array"
      ]
    },
    {
      "cell_type": "code",
      "execution_count": 103,
      "metadata": {
        "id": "NwsoCjRagQXi"
      },
      "outputs": [],
      "source": [
        "# Function to normalize the image intensity\n",
        "def normalize_image(img):\n",
        "    img_min, img_max = img.min(), img.max()\n",
        "    normalized_img = (img - img_min) / (img_max - img_min)\n",
        "    return normalized_img\n"
      ]
    },
    {
      "cell_type": "code",
      "execution_count": 104,
      "metadata": {
        "id": "bOdCT5T7gRVi"
      },
      "outputs": [],
      "source": [
        "# Diagnostic function with criteria\n",
        "def diagnose_image(img):\n",
        "    mean_intensity = np.mean(img)\n",
        "    std_intensity = np.std(img)\n",
        "    threshold_mean = 0.5\n",
        "    threshold_std = 0.1\n",
        "\n",
        "    # Criteria for diagnosis\n",
        "    if mean_intensity > threshold_mean and std_intensity > threshold_std:\n",
        "        return \"Abnormal scan detected\"\n",
        "    else:\n",
        "        return \"Scan appears normal\""
      ]
    },
    {
      "cell_type": "code",
      "execution_count": 105,
      "metadata": {
        "id": "drjpYL88gpO-"
      },
      "outputs": [],
      "source": [
        "# Function to calculate image metrics\n",
        "def calculate_metrics(img):\n",
        "    return {\n",
        "        \"Mean Intensity\": np.mean(img),\n",
        "        \"Standard Deviation\": np.std(img),\n",
        "        \"Minimum Intensity\": np.min(img),\n",
        "        \"Maximum Intensity\": np.max(img)\n",
        "    }"
      ]
    },
    {
      "cell_type": "code",
      "source": [
        "from PIL import Image\n",
        "\n",
        "image_path = 'images/Renel.jpg'\n",
        "image = Image.open(image_path)  # Load the image\n",
        "image\n",
        "prompt = \"\"\"This image contains a human organ image  along with some notes and graph\n",
        "          Given the Medical image, describe the parameters  thoroughly as possible based on what you\n",
        "          see in the image, \"Analyze the given medical image, which includes a human organ along with notes and a graph. Provide a detailed description of the organ, including its features, intensity, and any observed parameters.\n",
        "          Based on the image, create a simplified renogram and return the results in JSON format.\n",
        "    Description: \"\\n<Provide a detailed description of the organ>\\n\",\n",
        "    Diagnosis: \"\\n<Provide a provisional or confirmed diagnosis>\\n,\n",
        "    abnormalities:<Provide a detailed description of the organ>\",\n",
        "    Qauntitattive Measurements:[\n",
        "      \"Organ size\",\n",
        "      \"Region of Intrest\",\n",
        "      \"Intensity\",\n",
        "      ...\n",
        "    ]\n",
        "    Organ Features: [\n",
        "    \"feature1\",\n",
        "    \"feature2\",\n",
        "    \"feature3\",\n",
        "    \"feature4\",\n",
        "    ...\n",
        "  ]\n",
        "}\n",
        "          \"\"\"\n",
        "\n",
        "model_gen= genai.GenerativeModel('gemini-1.5-flash')\n",
        "response_gen= model_gen.generate_content([prompt, image])\n",
        "#print(response.text)\n",
        "\n",
        "\n",
        "#print(f\"\\n Human Prompt:-{prompt}\")\n",
        "#print(f\"\\nResponse: {response_gen.text}\\n\")\n"
      ],
      "metadata": {
        "id": "JgvfLTPWah_e"
      },
      "execution_count": 107,
      "outputs": []
    },
    {
      "cell_type": "code",
      "execution_count": 108,
      "metadata": {
        "id": "tNWL_h8Bgu59"
      },
      "outputs": [],
      "source": [
        "# Function to generate a medical report\n",
        "def generate_report(scan_id, scan_name, diagnosis, metrics, doctor_name):\n",
        "    report = f\"\"\"\n",
        "    ============================================================================\n",
        "                    Atomic Energy Medical Centre (AEMC)\n",
        "                    JPMC,Rafique Shaheed Road, Karachi\n",
        "    ============================================================================\n",
        "    PRN ID             : {PRN_nol}\n",
        "    Patient Name       : {Patient_name}\n",
        "    Diagnosis          : {diagnosis}\n",
        "\n",
        "    Metrics:\n",
        "    ----------------------------------------------------------------------------\n",
        "    Mean Intensity     : {metrics[\"Mean Intensity\"]:.4f}\n",
        "    Standard Deviation : {metrics[\"Standard Deviation\"]:.4f}\n",
        "    Minimum Intensity  : {metrics[\"Minimum Intensity\"]:.4f}\n",
        "    Maximum Intensity  : {metrics[\"Maximum Intensity\"]:.4f}\n",
        "\n",
        "    Analysis:\n",
        "    ----------------------------------------------------------------------------\n",
        "    {response_gen.text}\n",
        "\n",
        "\n",
        "\n",
        "    Report Generated by:\n",
        "    Doctor             : {doctor_name}\n",
        "    Date               : {datetime.datetime.now().strftime(\"%Y-%m-%d %H:%M:%S\")}\n",
        "    ============================================================================\n",
        "                                                          Dr.Bashir Ahmed\n",
        "                                                    Consultant Nuclear Physician\n",
        "    \"\"\"\n",
        "    return report"
      ]
    },
    {
      "cell_type": "code",
      "execution_count": 109,
      "metadata": {
        "collapsed": true,
        "id": "k9skrseWRdXS"
      },
      "outputs": [],
      "source": [
        "def process_and_generate_reports(file_paths, titles, doctor_name):\n",
        "    reports = []  # Initialize an empty list to store the reports\n",
        "    rows, cols = 2, 3\n",
        "    fig, axes = plt.subplots(rows, cols, figsize=(12, 8))\n",
        "    axes = axes.flatten()\n",
        "\n",
        "    for i, (file_path, title) in enumerate(zip(file_paths, titles)):\n",
        "        if i >= len(axes):\n",
        "            break\n",
        "\n",
        "        img = load_image(file_path)\n",
        "        normalized_img = normalize_image(img)\n",
        "        diagnosis = diagnose_image(normalized_img)\n",
        "        metrics = calculate_metrics(normalized_img)\n",
        "        scan_id = i + 1\n",
        "\n",
        "        # Append report\n",
        "        report = generate_report(scan_id, title, diagnosis, metrics, doctor_name)\n",
        "        reports.append(report)\n",
        "\n",
        "        # Display image with diagnosis\n",
        "        ax = axes[i]\n",
        "        im = ax.imshow(normalized_img, cmap=\"gray\")\n",
        "        ax.set_title(f\"{title}\\n{diagnosis}\", fontsize=10)\n",
        "        ax.axis(\"off\")\n",
        "\n",
        "    # Hide unused axes\n",
        "    for j in range(i + 1, len(axes)):\n",
        "        axes[j].axis(\"off\")\n",
        "\n",
        "    # Add colorbar\n",
        "    plt.tight_layout()\n",
        "    plt.show()\n",
        "\n",
        "    return reports  # Return the generated reports list\n"
      ]
    },
    {
      "cell_type": "code",
      "execution_count": 110,
      "metadata": {
        "colab": {
          "base_uri": "https://localhost:8080/",
          "height": 504
        },
        "collapsed": true,
        "id": "qsKvtF_XqGd1",
        "outputId": "d81ed109-8132-47f1-ec47-7a02b2d802a6"
      },
      "outputs": [
        {
          "name": "stdout",
          "output_type": "stream",
          "text": [
            "Patient NameAbdul Hadi\n",
            "PRN99506/24\n",
            "Duty DoctorDr.Aneeqa\n"
          ]
        },
        {
          "output_type": "display_data",
          "data": {
            "text/plain": [
              "<Figure size 1200x800 with 6 Axes>"
            ],
            "image/png": "[encoded data removed]"
          },
          "metadata": {}
        },
        {
          "output_type": "stream",
          "name": "stdout",
          "text": [
            "Reports generated and saved as 'medical_reports.txt'.\n"
          ]
        }
      ],
      "source": [
        "#Meta Data\n",
        "Patient_name=input(\"Patient Name\")\n",
        "PRN_nol=(input(\"PRN\"))\n",
        "\n",
        "# Doctor's name\n",
        "doctor_name = input(\"Duty Doctor\")  # Replace with actual doctor's name\n",
        "\n",
        "# Process the images and generate reports\n",
        "reports = process_and_generate_reports(file_paths, titles, doctor_name)\n",
        "\n",
        "\n",
        "# Save reports to a text file\n",
        "with open(\"medical_reports.txt\", \"w\") as f:\n",
        "    for report in reports:\n",
        "        f.write(report + \"\\n\\n\")  # Use the correct `report` variable\n",
        "print(\"Reports generated and saved as 'medical_reports.txt'.\")"
      ]
    },
    {
      "cell_type": "code",
      "source": [
        "from PIL import Image\n",
        "\n",
        "image_path = 'images/MAG3scan.jpg'\n",
        "image = Image.open(image_path)  # Load the image"
      ],
      "metadata": {
        "id": "CGApEN9rWU6P"
      },
      "execution_count": null,
      "outputs": []
    },
    {
      "cell_type": "code",
      "source": [
        "prompt = \"\"\"This image contains a human organ image  along with some notes and graph\n",
        "          Given the Medical image, describe the parameters  thoroughly as possible based on what you\n",
        "          see in the image, making sure to note all of the organ features and intensity and make simple RENOGRAM. Return output in json format:\n",
        "          {description:, diagnosis,Renogram features: [feature1, feature2, feature3, etc]}\"\"\"\n"
      ],
      "metadata": {
        "collapsed": true,
        "id": "YuPFij3GWD3V"
      },
      "execution_count": null,
      "outputs": []
    },
    {
      "cell_type": "code",
      "source": [
        "model_gen= genai.GenerativeModel('gemini-1.5-flash')\n",
        "response_gen= model_gen.generate_content([prompt, image])\n",
        "#print(response.text)\n",
        "\n",
        "\n",
        "print(f\"\\n Human Prompt:-{prompt}\")\n",
        "print(f\"\\nResponse: {response_gen.text}\\n\")"
      ],
      "metadata": {
        "colab": {
          "base_uri": "https://localhost:8080/",
          "height": 402
        },
        "id": "w5FQ8axXWcwu",
        "outputId": "b8a45540-3345-44ff-fe8d-14fc13bbf871"
      },
      "execution_count": null,
      "outputs": [
        {
          "output_type": "stream",
          "name": "stdout",
          "text": [
            "\n",
            " Human Prompt:-This image contains a human organ image  along with some notes and graph\n",
            "          Given the Medical image, describe the parameters  thoroughly as possible based on what you\n",
            "          see in the image, making sure to note all of the organ features and intensity and make simple RENOGRAM. Return output in json format:\n",
            "          {description:, diagnosis,Renogram features: [feature1, feature2, feature3, etc]}\n",
            "\n",
            "Response: ```json\n",
            "{\n",
            "  \"description\": \"The image appears to be a renal scan, likely a diuretic renogram, showing the uptake and excretion of a radioisotope by the kidneys.  The scan displays two kidneys, with a central region representing the bladder. The kidneys exhibit asymmetry in radioisotope uptake and excretion. The left kidney shows significantly reduced uptake and excretion compared to the right kidney.  There is also evidence of delayed excretion in both kidneys, especially the left one. The image quality is somewhat grainy, making precise measurements difficult. The bladder shows some activity but is not excessively prominent.\",\n",
            "  \"diagnosis\": \"Based on the apparent asymmetry in uptake and excretion, and the delayed excretion, a possible diagnosis is unilateral renal obstruction (more likely affecting the left kidney) or reduced renal function. More information, such as the time sequence of the images and patient clinical data, is needed for a definitive diagnosis. Other possibilities include ureteral obstruction, but the presentation leans more towards a problem with renal function in the left kidney.\",\n",
            "  \"Renogram_features\": [\n",
            "    \"Asymmetrical uptake between kidneys\",\n",
            "    \"Reduced uptake in the left kidney\",\n",
            "    \"Delayed excretion in both kidneys, significantly more pronounced on the left side\",\n",
            "    \"Possible evidence of unilateral obstruction (left kidney)\",\n",
            "    \"Poor image quality hindering precise quantification\"\n",
            "  ]\n",
            "}\n",
            "```\n",
            "\n",
            "\n"
          ]
        }
      ]
    }
  ],
  "metadata": {
    "accelerator": "GPU",
    "colab": {
      "gpuType": "T4",
      "provenance": [],
      "include_colab_link": true
    },
    "kernelspec": {
      "display_name": "Python 3",
      "name": "python3"
    },
    "language_info": {
      "name": "python"
    }
  },
  "nbformat": 4,
  "nbformat_minor": 0
}
{
  "cells": [
    {
      "cell_type": "markdown",
      "metadata": {
        "id": "view-in-github",
        "colab_type": "text"
      },
      "source": [
        "<a href=\"https://colab.research.google.com/github/uzma-knpc/Generative-AI/blob/main/NMIreader(promptchangeapp).ipynb\" target=\"_parent\"><img src=\"https://colab.research.google.com/assets/colab-badge.svg\" alt=\"Open In Colab\"/></a>"
      ]
    },
    {
      "cell_type": "markdown",
      "metadata": {
        "id": "Os-OJ_8ySpgr"
      },
      "source": [
        "### Medical Images Diagnosis with Report(Finetune modal)"
      ]
    },
    {
      "cell_type": "code",
      "execution_count": null,
      "metadata": {
        "colab": {
          "base_uri": "https://localhost:8080/"
        },
        "collapsed": true,
        "id": "QeQQ9ohuUMqS",
        "outputId": "88a43e27-c7c6-41be-9229-b16834f9da8e"
      },
      "outputs": [
        {
          "output_type": "stream",
          "name": "stdout",
          "text": [
            "\u001b[?25l   \u001b[90m━━━━━━━━━━━━━━━━━━━━━━━━━━━━━━━━━━━━━━━━\u001b[0m \u001b[32m0.0/1.9 MB\u001b[0m \u001b[31m?\u001b[0m eta \u001b[36m-:--:--\u001b[0m\r\u001b[2K   \u001b[90m━━━━━━━━━━━━━━━━━━━━━━━━━━━━━━━━━━━━━━━━\u001b[0m \u001b[32m1.9/1.9 MB\u001b[0m \u001b[31m58.2 MB/s\u001b[0m eta \u001b[36m0:00:00\u001b[0m\n",
            "\u001b[2K   \u001b[90m━━━━━━━━━━━━━━━━━━━━━━━━━━━━━━━━━━━━━━━━\u001b[0m \u001b[32m4.5/4.5 MB\u001b[0m \u001b[31m70.4 MB/s\u001b[0m eta \u001b[36m0:00:00\u001b[0m\n",
            "\u001b[2K   \u001b[90m━━━━━━━━━━━━━━━━━━━━━━━━━━━━━━━━━━━━━━━━\u001b[0m \u001b[32m755.6/755.6 MB\u001b[0m \u001b[31m1.9 MB/s\u001b[0m eta \u001b[36m0:00:00\u001b[0m\n",
            "\u001b[2K   \u001b[90m━━━━━━━━━━━━━━━━━━━━━━━━━━━━━━━━━━━━━━━━\u001b[0m \u001b[32m731.7/731.7 MB\u001b[0m \u001b[31m2.0 MB/s\u001b[0m eta \u001b[36m0:00:00\u001b[0m\n",
            "\u001b[2K   \u001b[90m━━━━━━━━━━━━━━━━━━━━━━━━━━━━━━━━━━━━━━━━\u001b[0m \u001b[32m166.0/166.0 MB\u001b[0m \u001b[31m6.8 MB/s\u001b[0m eta \u001b[36m0:00:00\u001b[0m\n",
            "\u001b[2K   \u001b[90m━━━━━━━━━━━━━━━━━━━━━━━━━━━━━━━━━━━━━━━━\u001b[0m \u001b[32m167.9/167.9 MB\u001b[0m \u001b[31m7.6 MB/s\u001b[0m eta \u001b[36m0:00:00\u001b[0m\n",
            "\u001b[2K   \u001b[90m━━━━━━━━━━━━━━━━━━━━━━━━━━━━━━━━━━━━━━━━\u001b[0m \u001b[32m6.9/6.9 MB\u001b[0m \u001b[31m61.0 MB/s\u001b[0m eta \u001b[36m0:00:00\u001b[0m\n",
            "\u001b[?25h\u001b[31mERROR: pip's dependency resolver does not currently take into account all the packages that are installed. This behaviour is the source of the following dependency conflicts.\n",
            "torchaudio 2.5.1+cu121 requires torch==2.5.1, but you have torch 2.2.2 which is incompatible.\u001b[0m\u001b[31m\n",
            "\u001b[2K   \u001b[90m━━━━━━━━━━━━━━━━━━━━━━━━━━━━━━━━━━━━━━━━\u001b[0m \u001b[32m4.5/4.5 MB\u001b[0m \u001b[31m50.7 MB/s\u001b[0m eta \u001b[36m0:00:00\u001b[0m\n",
            "\u001b[?25h\u001b[31mERROR: pip's dependency resolver does not currently take into account all the packages that are installed. This behaviour is the source of the following dependency conflicts.\n",
            "facenet-pytorch 2.6.0 requires Pillow<10.3.0,>=10.2.0, but you have pillow 11.1.0 which is incompatible.\u001b[0m\u001b[31m\n",
            "\u001b[0m"
          ]
        }
      ],
      "source": [
        "!pip install -Uq facenet-pytorch\n",
        "!pip install -Uq pillow"
      ]
    },
    {
      "cell_type": "code",
      "source": [
        "!pip install -U google-generativeai"
      ],
      "metadata": {
        "collapsed": true,
        "colab": {
          "base_uri": "https://localhost:8080/"
        },
        "id": "6BUSRfPgL8_k",
        "outputId": "2fc33b46-4673-41d3-f454-a6e28ec7eec6"
      },
      "execution_count": null,
      "outputs": [
        {
          "output_type": "stream",
          "name": "stdout",
          "text": [
            "Requirement already satisfied: google-generativeai in /usr/local/lib/python3.11/dist-packages (0.8.4)\n",
            "Requirement already satisfied: google-ai-generativelanguage==0.6.15 in /usr/local/lib/python3.11/dist-packages (from google-generativeai) (0.6.15)\n",
            "Requirement already satisfied: google-api-core in /usr/local/lib/python3.11/dist-packages (from google-generativeai) (2.19.2)\n",
            "Requirement already satisfied: google-api-python-client in /usr/local/lib/python3.11/dist-packages (from google-generativeai) (2.155.0)\n",
            "Requirement already satisfied: google-auth>=2.15.0 in /usr/local/lib/python3.11/dist-packages (from google-generativeai) (2.27.0)\n",
            "Requirement already satisfied: protobuf in /usr/local/lib/python3.11/dist-packages (from google-generativeai) (4.25.5)\n",
            "Requirement already satisfied: pydantic in /usr/local/lib/python3.11/dist-packages (from google-generativeai) (2.10.5)\n",
            "Requirement already satisfied: tqdm in /usr/local/lib/python3.11/dist-packages (from google-generativeai) (4.67.1)\n",
            "Requirement already satisfied: typing-extensions in /usr/local/lib/python3.11/dist-packages (from google-generativeai) (4.12.2)\n",
            "Requirement already satisfied: proto-plus<2.0.0dev,>=1.22.3 in /usr/local/lib/python3.11/dist-packages (from google-ai-generativelanguage==0.6.15->google-generativeai) (1.25.0)\n",
            "Requirement already satisfied: googleapis-common-protos<2.0.dev0,>=1.56.2 in /usr/local/lib/python3.11/dist-packages (from google-api-core->google-generativeai) (1.66.0)\n",
            "Requirement already satisfied: requests<3.0.0.dev0,>=2.18.0 in /usr/local/lib/python3.11/dist-packages (from google-api-core->google-generativeai) (2.32.3)\n",
            "Requirement already satisfied: cachetools<6.0,>=2.0.0 in /usr/local/lib/python3.11/dist-packages (from google-auth>=2.15.0->google-generativeai) (5.5.1)\n",
            "Requirement already satisfied: pyasn1-modules>=0.2.1 in /usr/local/lib/python3.11/dist-packages (from google-auth>=2.15.0->google-generativeai) (0.4.1)\n",
            "Requirement already satisfied: rsa<5,>=3.1.4 in /usr/local/lib/python3.11/dist-packages (from google-auth>=2.15.0->google-generativeai) (4.9)\n",
            "Requirement already satisfied: httplib2<1.dev0,>=0.19.0 in /usr/local/lib/python3.11/dist-packages (from google-api-python-client->google-generativeai) (0.22.0)\n",
            "Requirement already satisfied: google-auth-httplib2<1.0.0,>=0.2.0 in /usr/local/lib/python3.11/dist-packages (from google-api-python-client->google-generativeai) (0.2.0)\n",
            "Requirement already satisfied: uritemplate<5,>=3.0.1 in /usr/local/lib/python3.11/dist-packages (from google-api-python-client->google-generativeai) (4.1.1)\n",
            "Requirement already satisfied: annotated-types>=0.6.0 in /usr/local/lib/python3.11/dist-packages (from pydantic->google-generativeai) (0.7.0)\n",
            "Requirement already satisfied: pydantic-core==2.27.2 in /usr/local/lib/python3.11/dist-packages (from pydantic->google-generativeai) (2.27.2)\n",
            "Requirement already satisfied: grpcio<2.0dev,>=1.33.2 in /usr/local/lib/python3.11/dist-packages (from google-api-core[grpc]!=2.0.*,!=2.1.*,!=2.10.*,!=2.2.*,!=2.3.*,!=2.4.*,!=2.5.*,!=2.6.*,!=2.7.*,!=2.8.*,!=2.9.*,<3.0.0dev,>=1.34.1->google-ai-generativelanguage==0.6.15->google-generativeai) (1.69.0)\n",
            "Requirement already satisfied: grpcio-status<2.0.dev0,>=1.33.2 in /usr/local/lib/python3.11/dist-packages (from google-api-core[grpc]!=2.0.*,!=2.1.*,!=2.10.*,!=2.2.*,!=2.3.*,!=2.4.*,!=2.5.*,!=2.6.*,!=2.7.*,!=2.8.*,!=2.9.*,<3.0.0dev,>=1.34.1->google-ai-generativelanguage==0.6.15->google-generativeai) (1.62.3)\n",
            "Requirement already satisfied: pyparsing!=3.0.0,!=3.0.1,!=3.0.2,!=3.0.3,<4,>=2.4.2 in /usr/local/lib/python3.11/dist-packages (from httplib2<1.dev0,>=0.19.0->google-api-python-client->google-generativeai) (3.2.1)\n",
            "Requirement already satisfied: pyasn1<0.7.0,>=0.4.6 in /usr/local/lib/python3.11/dist-packages (from pyasn1-modules>=0.2.1->google-auth>=2.15.0->google-generativeai) (0.6.1)\n",
            "Requirement already satisfied: charset-normalizer<4,>=2 in /usr/local/lib/python3.11/dist-packages (from requests<3.0.0.dev0,>=2.18.0->google-api-core->google-generativeai) (3.4.1)\n",
            "Requirement already satisfied: idna<4,>=2.5 in /usr/local/lib/python3.11/dist-packages (from requests<3.0.0.dev0,>=2.18.0->google-api-core->google-generativeai) (3.10)\n",
            "Requirement already satisfied: urllib3<3,>=1.21.1 in /usr/local/lib/python3.11/dist-packages (from requests<3.0.0.dev0,>=2.18.0->google-api-core->google-generativeai) (2.3.0)\n",
            "Requirement already satisfied: certifi>=2017.4.17 in /usr/local/lib/python3.11/dist-packages (from requests<3.0.0.dev0,>=2.18.0->google-api-core->google-generativeai) (2024.12.14)\n"
          ]
        }
      ]
    },
    {
      "cell_type": "code",
      "source": [
        "import google.generativeai as genai\n",
        "from google.colab import userdata\n",
        "GOOGLE_API_KEY=userdata.get('GOOGLE_API_KEY')\n",
        "genai.configure(api_key=GOOGLE_API_KEY)"
      ],
      "metadata": {
        "id": "-Nq522RJMdVx"
      },
      "execution_count": null,
      "outputs": []
    },
    {
      "cell_type": "code",
      "source": [],
      "metadata": {
        "id": "0RXZfLImMqh-"
      },
      "execution_count": null,
      "outputs": []
    },
    {
      "cell_type": "code",
      "source": [
        "import google.generativeai as genai\n",
        "import os"
      ],
      "metadata": {
        "id": "3eKkp4OAMQxQ"
      },
      "execution_count": null,
      "outputs": []
    },
    {
      "cell_type": "code",
      "execution_count": null,
      "metadata": {
        "id": "VLF-hrWBKmod"
      },
      "outputs": [],
      "source": [
        "import torch\n",
        "import torch.nn as nn\n",
        "import torchvision.models as models\n",
        "\n",
        "import torchvision.transforms as transforms\n",
        "from PIL import Image"
      ]
    },
    {
      "cell_type": "code",
      "execution_count": null,
      "metadata": {
        "collapsed": true,
        "id": "22HAeuDqTolW",
        "colab": {
          "base_uri": "https://localhost:8080/",
          "height": 49,
          "referenced_widgets": [
            "f30aa5ec735b4f449823f0b357584d54",
            "69abff68d0ab4d21a5dd0152aa7b3e7e",
            "36c83e187e6e4d5c9797bd45f6319f94",
            "97da6f3f19a347d385f75ba231feff11",
            "2373a5d27f5c48ed86f49bcfdcd6cf63",
            "0a8ca3c26af24f00a2d701f8e9467e3b",
            "056205f33aa8481db63830d4494fe4c7",
            "78678d98738545bda2a187e2112c7878",
            "d1bbe49d518948dfab2f61845753e38b",
            "044ac13b189d4cb499e730ae7a2a8df3",
            "511bf2697f72450d8e9727ead9e8d3f4"
          ]
        },
        "outputId": "8a0cf5f0-de49-4c32-f2f2-0ac9eec4bf0f"
      },
      "outputs": [
        {
          "output_type": "display_data",
          "data": {
            "text/plain": [
              "  0%|          | 0.00/107M [00:00<?, ?B/s]"
            ],
            "application/vnd.jupyter.widget-view+json": {
              "version_major": 2,
              "version_minor": 0,
              "model_id": "f30aa5ec735b4f449823f0b357584d54"
            }
          },
          "metadata": {}
        }
      ],
      "source": [
        "from facenet_pytorch import MTCNN, InceptionResnetV1\n",
        "\n",
        "# Load the pre-trained InceptionResnetV1 model\n",
        "model = InceptionResnetV1(pretrained='vggface2').eval()\n",
        "\n"
      ]
    },
    {
      "cell_type": "code",
      "execution_count": null,
      "metadata": {
        "id": "YtY6raX6Vrsp"
      },
      "outputs": [],
      "source": [
        "from torch import nn\n",
        "from torchvision import transforms, datasets\n",
        "from torch.utils.data import DataLoader\n",
        "from facenet_pytorch import InceptionResnetV1\n",
        "\n",
        "\n",
        "# Preprocessing function to transform the image into a tensor\n",
        "def preprocess_image(image_path):\n",
        "    image = Image.open(image_path).convert('RGB')\n",
        "    preprocess = transforms.Compose([\n",
        "        transforms.Resize((224, 224)),\n",
        "        transforms.ToTensor(),\n",
        "        transforms.Normalize(mean=[0.485, 0.456, 0.406], std=[0.229, 0.224, 0.225]),\n",
        "    ])\n",
        "    return preprocess(image).unsqueeze(0)\n",
        "\n"
      ]
    },
    {
      "cell_type": "code",
      "execution_count": null,
      "metadata": {
        "id": "lUn-Q3zi2Esd"
      },
      "outputs": [],
      "source": [
        "# Function to create image embeddings\n",
        "def create_image_embedding(image_path):\n",
        "    try:\n",
        "        input_tensor = preprocess_image(image_path)\n",
        "        with torch.no_grad():\n",
        "            embeddings = model(input_tensor)# ebedding important line\n",
        "        return embeddings.squeeze().numpy()\n",
        "    except Exception as e:\n",
        "        print(\"Error:\", e)\n",
        "        return None\n",
        "# Save the fine-tuned model\n",
        "torch.save(model.state_dict(), \"fine_tuned_inception_resnet_v1.pth\")\n"
      ]
    },
    {
      "cell_type": "code",
      "execution_count": null,
      "metadata": {
        "id": "_0AcRHbRVslq"
      },
      "outputs": [],
      "source": [
        "#!mkdir images"
      ]
    },
    {
      "cell_type": "code",
      "source": [
        "from google.colab import files\n",
        "uploaded = files.upload()\n",
        "for file_name in uploaded.keys():\n",
        "  Image_path=file_name\n",
        "  print(f\"Uploaded file: {Image_path}\")\n"
      ],
      "metadata": {
        "colab": {
          "base_uri": "https://localhost:8080/",
          "height": 56
        },
        "id": "7Q5EzCp78kjO",
        "outputId": "231b4616-7e12-4251-8d62-c10ad04f90a7"
      },
      "execution_count": null,
      "outputs": [
        {
          "data": {
            "text/html": [
              "\n",
              "     <input type=\"file\" id=\"files-3229307b-1974-4cd0-8ebb-45d6a31ebd7c\" name=\"files[]\" multiple disabled\n",
              "        style=\"border:none\" />\n",
              "     <output id=\"result-3229307b-1974-4cd0-8ebb-45d6a31ebd7c\">\n",
              "      Upload widget is only available when the cell has been executed in the\n",
              "      current browser session. Please rerun this cell to enable.\n",
              "      </output>\n",
              "      <script>// Copyright 2017 Google LLC\n",
              "//\n",
              "// Licensed under the Apache License, Version 2.0 (the \"License\");\n",
              "// you may not use this file except in compliance with the License.\n",
              "// You may obtain a copy of the License at\n",
              "//\n",
              "//      http://www.apache.org/licenses/LICENSE-2.0\n",
              "//\n",
              "// Unless required by applicable law or agreed to in writing, software\n",
              "// distributed under the License is distributed on an \"AS IS\" BASIS,\n",
              "// WITHOUT WARRANTIES OR CONDITIONS OF ANY KIND, either express or implied.\n",
              "// See the License for the specific language governing permissions and\n",
              "// limitations under the License.\n",
              "\n",
              "/**\n",
              " * @fileoverview Helpers for google.colab Python module.\n",
              " */\n",
              "(function(scope) {\n",
              "function span(text, styleAttributes = {}) {\n",
              "  const element = document.createElement('span');\n",
              "  element.textContent = text;\n",
              "  for (const key of Object.keys(styleAttributes)) {\n",
              "    element.style[key] = styleAttributes[key];\n",
              "  }\n",
              "  return element;\n",
              "}\n",
              "\n",
              "// Max number of bytes which will be uploaded at a time.\n",
              "const MAX_PAYLOAD_SIZE = 100 * 1024;\n",
              "\n",
              "function _uploadFiles(inputId, outputId) {\n",
              "  const steps = uploadFilesStep(inputId, outputId);\n",
              "  const outputElement = document.getElementById(outputId);\n",
              "  // Cache steps on the outputElement to make it available for the next call\n",
              "  // to uploadFilesContinue from Python.\n",
              "  outputElement.steps = steps;\n",
              "\n",
              "  return _uploadFilesContinue(outputId);\n",
              "}\n",
              "\n",
              "// This is roughly an async generator (not supported in the browser yet),\n",
              "// where there are multiple asynchronous steps and the Python side is going\n",
              "// to poll for completion of each step.\n",
              "// This uses a Promise to block the python side on completion of each step,\n",
              "// then passes the result of the previous step as the input to the next step.\n",
              "function _uploadFilesContinue(outputId) {\n",
              "  const outputElement = document.getElementById(outputId);\n",
              "  const steps = outputElement.steps;\n",
              "\n",
              "  const next = steps.next(outputElement.lastPromiseValue);\n",
              "  return Promise.resolve(next.value.promise).then((value) => {\n",
              "    // Cache the last promise value to make it available to the next\n",
              "    // step of the generator.\n",
              "    outputElement.lastPromiseValue = value;\n",
              "    return next.value.response;\n",
              "  });\n",
              "}\n",
              "\n",
              "/**\n",
              " * Generator function which is called between each async step of the upload\n",
              " * process.\n",
              " * @param {string} inputId Element ID of the input file picker element.\n",
              " * @param {string} outputId Element ID of the output display.\n",
              " * @return {!Iterable<!Object>} Iterable of next steps.\n",
              " */\n",
              "function* uploadFilesStep(inputId, outputId) {\n",
              "  const inputElement = document.getElementById(inputId);\n",
              "  inputElement.disabled = false;\n",
              "\n",
              "  const outputElement = document.getElementById(outputId);\n",
              "  outputElement.innerHTML = '';\n",
              "\n",
              "  const pickedPromise = new Promise((resolve) => {\n",
              "    inputElement.addEventListener('change', (e) => {\n",
              "      resolve(e.target.files);\n",
              "    });\n",
              "  });\n",
              "\n",
              "  const cancel = document.createElement('button');\n",
              "  inputElement.parentElement.appendChild(cancel);\n",
              "  cancel.textContent = 'Cancel upload';\n",
              "  const cancelPromise = new Promise((resolve) => {\n",
              "    cancel.onclick = () => {\n",
              "      resolve(null);\n",
              "    };\n",
              "  });\n",
              "\n",
              "  // Wait for the user to pick the files.\n",
              "  const files = yield {\n",
              "    promise: Promise.race([pickedPromise, cancelPromise]),\n",
              "    response: {\n",
              "      action: 'starting',\n",
              "    }\n",
              "  };\n",
              "\n",
              "  cancel.remove();\n",
              "\n",
              "  // Disable the input element since further picks are not allowed.\n",
              "  inputElement.disabled = true;\n",
              "\n",
              "  if (!files) {\n",
              "    return {\n",
              "      response: {\n",
              "        action: 'complete',\n",
              "      }\n",
              "    };\n",
              "  }\n",
              "\n",
              "  for (const file of files) {\n",
              "    const li = document.createElement('li');\n",
              "    li.append(span(file.name, {fontWeight: 'bold'}));\n",
              "    li.append(span(\n",
              "        `(${file.type || 'n/a'}) - ${file.size} bytes, ` +\n",
              "        `last modified: ${\n",
              "            file.lastModifiedDate ? file.lastModifiedDate.toLocaleDateString() :\n",
              "                                    'n/a'} - `));\n",
              "    const percent = span('0% done');\n",
              "    li.appendChild(percent);\n",
              "\n",
              "    outputElement.appendChild(li);\n",
              "\n",
              "    const fileDataPromise = new Promise((resolve) => {\n",
              "      const reader = new FileReader();\n",
              "      reader.onload = (e) => {\n",
              "        resolve(e.target.result);\n",
              "      };\n",
              "      reader.readAsArrayBuffer(file);\n",
              "    });\n",
              "    // Wait for the data to be ready.\n",
              "    let fileData = yield {\n",
              "      promise: fileDataPromise,\n",
              "      response: {\n",
              "        action: 'continue',\n",
              "      }\n",
              "    };\n",
              "\n",
              "    // Use a chunked sending to avoid message size limits. See b/62115660.\n",
              "    let position = 0;\n",
              "    do {\n",
              "      const length = Math.min(fileData.byteLength - position, MAX_PAYLOAD_SIZE);\n",
              "      const chunk = new Uint8Array(fileData, position, length);\n",
              "      position += length;\n",
              "\n",
              "      const base64 = btoa(String.fromCharCode.apply(null, chunk));\n",
              "      yield {\n",
              "        response: {\n",
              "          action: 'append',\n",
              "          file: file.name,\n",
              "          data: base64,\n",
              "        },\n",
              "      };\n",
              "\n",
              "      let percentDone = fileData.byteLength === 0 ?\n",
              "          100 :\n",
              "          Math.round((position / fileData.byteLength) * 100);\n",
              "      percent.textContent = `${percentDone}% done`;\n",
              "\n",
              "    } while (position < fileData.byteLength);\n",
              "  }\n",
              "\n",
              "  // All done.\n",
              "  yield {\n",
              "    response: {\n",
              "      action: 'complete',\n",
              "    }\n",
              "  };\n",
              "}\n",
              "\n",
              "scope.google = scope.google || {};\n",
              "scope.google.colab = scope.google.colab || {};\n",
              "scope.google.colab._files = {\n",
              "  _uploadFiles,\n",
              "  _uploadFilesContinue,\n",
              "};\n",
              "})(self);\n",
              "</script> "
            ],
            "text/plain": [
              "<IPython.core.display.HTML object>"
            ]
          },
          "metadata": {},
          "output_type": "display_data"
        }
      ]
    },
    {
      "cell_type": "code",
      "execution_count": null,
      "metadata": {
        "id": "dhtkU-0lV1-O"
      },
      "outputs": [],
      "source": [
        "# prompt: create python function where we provide image url and imag_name then it save in images folder\n",
        "\n",
        "import os\n",
        "import shutil\n",
        "import requests\n",
        "\n",
        "def save_image_from_url(image_url, image_name):\n",
        "    \"\"\"\n",
        "    Downloads an image from a URL or copies it from a local file path,\n",
        "    and saves it to the 'images' folder.\n",
        "    \"\"\"\n",
        "    try:\n",
        "        # Create 'images' folder if it doesn't exist\n",
        "        if not os.path.exists(\"images\"):\n",
        "            os.makedirs(\"images\")\n",
        "\n",
        "        image_path = os.path.join(\"images\", image_name)\n",
        "\n",
        "        # Check if the input is a URL or a local file path\n",
        "        if image_url.startswith(\"http://\") or image_url.startswith(\"https://\"):\n",
        "            # Download the image from a URL\n",
        "            response = requests.get(image_url, stream=True)\n",
        "            response.raise_for_status()  # Raise an exception for bad status codes\n",
        "\n",
        "            # Save the image in chunks\n",
        "            with open(image_path, 'wb') as file:\n",
        "                for chunk in response.iter_content(chunk_size=8192):\n",
        "                    file.write(chunk)\n",
        "\n",
        "            print(f\"Image downloaded and saved to: {image_path}\")\n",
        "\n",
        "            print(f\"File exists: {os.path.exists(image_url)}\")\n",
        "            print(f\"Is a file: {os.path.isfile(image_url)}\")\n",
        "            print(f\"Invalid image URL or file path: {image_url}\")\n",
        "\n",
        "\n",
        "        elif os.path.exists(image_url) and os.path.isfile(image_url):\n",
        "            # Debugging: Print file path validation info\n",
        "            print(f\"Local file path is valid: {image_url}\")\n",
        "\n",
        "            # Copy the image from a local file path\n",
        "            shutil.copy(image_url, image_path)\n",
        "            print(f\"Image copied from local path and saved to: {image_path}\")\n",
        "\n",
        "        else:\n",
        "            # Debugging: Print error for invalid paths\n",
        "            print(f\"file{image_path}\")\n",
        "            print(f\"File exists: {os.path.exists(image_url)}\")\n",
        "            print(f\"Is a file: {os.path.isfile(image_url)}\")\n",
        "            print(f\"Invalid image URL or file path: {image_url}\")\n",
        "\n",
        "    except requests.exceptions.RequestException as e:\n",
        "        print(f\"Error downloading image: {e}\")\n",
        "    except Exception as e:\n",
        "        print(f\"An error occurred: {e}\")\n",
        "\n"
      ]
    },
    {
      "cell_type": "markdown",
      "metadata": {
        "id": "8LlqiryzQ4lc"
      },
      "source": [
        "# Images loaded from net"
      ]
    },
    {
      "cell_type": "code",
      "execution_count": null,
      "metadata": {
        "collapsed": true,
        "id": "01gSmY8gX8ep"
      },
      "outputs": [],
      "source": [
        "#save_image_from_url(\"https://prod-images-static.radiopaedia.org/images/48689902/0c2f5f49d11eb7d8a898cd79a70054_gallery.jpeg\", \"Nlung.jpg\")\n",
        "#save_image_from_url(\"https://media.springernature.com/lw685/springer-static/image/chp%3A10.1007%2F978-1-4614-8654-1_10/MediaObjects/217843_1_En_10_Fig2_HTML.jpg\", \"Renel.jpg\")\n",
        "#save_image_from_url(r\"e:/thyaemc.jpeg\", \"thyroid.jpg\")\n",
        "#save_image_from_url(\".images/Thyroid.jpeg\", \"Thyroid.jpeg\")\n",
        "save_image_from_url(Image_path, file_name)\n",
        "#save_image_from_url(\"https://encrypted-tbn0.gstatic.com/images?q=tbn:ANd9GcRC9F_G4u8lJJ8O-c00QZp7AdhzPPhNxPDdKA&s\",\"DMSAscan.jpg\")\n",
        "#save_image_from_url(\"https://ars.els-cdn.com/content/image/1-s2.0-S1930043318306022-gr1.jpg\",\"lungscan.jpg\")\n",
        "#save_image_from_url(\"https://img.medscapestatic.com/pi/meds/ckb/51/26751tn.jpg\",\"Bonescan.jpg\",\"BS.jpg\")\n",
        "#save_image_from_url(\"https://ars.els-cdn.com/content/image/1-s2.0-S0001299823000296-gr2.jpg\",'Thyroidscan.jpg')\n",
        "#print(\"Image saved to:\"/Users/uzmailyas/thy.jpeg\",image_path)\n",
        "#save_image_from_url(\"https://pub.mdpi-res.com/applsci/applsci-12-00698/article_deploy/html/images/applsci-12-00698-g001.png?1642052715\",\"RenelScan.jpg\")"
      ]
    },
    {
      "cell_type": "markdown",
      "metadata": {
        "id": "n4fityNUQd76"
      },
      "source": [
        "# EMBEDDING"
      ]
    },
    {
      "cell_type": "markdown",
      "source": [],
      "metadata": {
        "id": "GC0rNWCUgKJR"
      }
    },
    {
      "cell_type": "code",
      "execution_count": null,
      "metadata": {
        "id": "qGsGyHm7Z7GG",
        "collapsed": true
      },
      "outputs": [],
      "source": [
        "#d = create_image_embedding(\"./images/DMSAscan.jpg\")\n",
        "#m = create_image_embedding(\"./images/Renel.jpg\")\n",
        "m = create_image_embedding(Image_path)\n",
        "#l = create_image_embedding(\"./images/lungscan.jpg\")\n",
        "#n = create_image_embedding(\"./images/Nlung.jpg\")\n",
        "#t = create_image_embedding(\"./images/Thyroidscan.jpg\")\n",
        "#r = create_image_embedding(\"./images/RenelScan.jpg\")\n",
        "\n",
        "#print(f\"Result:{m},shape:{getattr(m,'shape,'not an array')}\")\n",
        "print(f\"Result:{m},shape:{m.shape}\")"
      ]
    },
    {
      "cell_type": "code",
      "execution_count": null,
      "metadata": {
        "collapsed": true,
        "id": "EaGMoOeMatEn"
      },
      "outputs": [],
      "source": [
        "!pip install -U milvus-lite\n",
        "\n",
        "!pip install -U pymilvus\n"
      ]
    },
    {
      "cell_type": "code",
      "execution_count": null,
      "metadata": {
        "id": "YBPZRMthRumC"
      },
      "outputs": [],
      "source": [
        "# Paths to your uploaded images and titles\n",
        "file_paths = [\n",
        "   # \"images/DMSAscan.jpg\",\n",
        "    Image_path,\n",
        "   # \"images/lungscan.jpg\",\n",
        "   # \"images/Thyroidscan.jpg\",\n",
        "   # \"images/RenelScan.jpg\" ,\n",
        "   # \"images/Nlung.jpg\" ,  # Replace with actual file paths for each image\n",
        "\n",
        "]\n",
        "titles = [\n",
        "   # \"DMSA Scan (ID: 1)\",\n",
        "   file_name,\n",
        "    #\"Lung Scan (ID: 3)\",\n",
        "   # \"Thyroid Scan (ID: 4)\",\n",
        "   # \"Renal Scan (ID: 5)\",\n",
        "   # \"NormalScan (ID: 6)\",\n",
        "]"
      ]
    },
    {
      "cell_type": "code",
      "execution_count": null,
      "metadata": {
        "id": "As75VHGUJ9WQ"
      },
      "outputs": [],
      "source": [
        "import matplotlib.pyplot as plt\n",
        "import numpy as np\n",
        "from PIL import Image\n",
        "import datetime\n",
        "\n",
        "# Function to load an image and convert it to grayscale\n",
        "def load_image(file_path):\n",
        "    img = Image.open(file_path).convert(\"L\")\n",
        "    img_array = np.array(img)\n",
        "    return img_array"
      ]
    },
    {
      "cell_type": "code",
      "execution_count": null,
      "metadata": {
        "id": "NwsoCjRagQXi"
      },
      "outputs": [],
      "source": [
        "# Function to normalize the image intensity\n",
        "def normalize_image(img):\n",
        "    img_min, img_max = img.min(), img.max()\n",
        "    normalized_img = (img - img_min) / (img_max - img_min)\n",
        "    return normalized_img\n"
      ]
    },
    {
      "cell_type": "code",
      "execution_count": null,
      "metadata": {
        "id": "bOdCT5T7gRVi"
      },
      "outputs": [],
      "source": [
        "# Diagnostic function with criteria\n",
        "def diagnose_image(img):\n",
        "    mean_intensity = np.mean(img)\n",
        "    std_intensity = np.std(img)\n",
        "    threshold_mean = 0.5\n",
        "    threshold_std = 0.1\n",
        "\n",
        "    # Criteria for diagnosis\n",
        "    if mean_intensity > threshold_mean and std_intensity > threshold_std:\n",
        "        return \"Abnormal scan detected\"\n",
        "    else:\n",
        "        return \"Scan appears normal\""
      ]
    },
    {
      "cell_type": "code",
      "execution_count": null,
      "metadata": {
        "id": "drjpYL88gpO-"
      },
      "outputs": [],
      "source": [
        "# Function to calculate image metrics\n",
        "def calculate_metrics(img):\n",
        "    return {\n",
        "        \"Mean Intensity\": np.mean(img),\n",
        "        \"Standard Deviation\": np.std(img),\n",
        "        \"Minimum Intensity\": np.min(img),\n",
        "        \"Maximum Intensity\": np.max(img)\n",
        "    }"
      ]
    },
    {
      "cell_type": "code",
      "source": [
        "from PIL import Image\n",
        "\n",
        "#image_path = './images/thyaemc.jpeg'\n",
        "#image_path=os.path(Image_path)\n",
        "    #image_path= input(\"Enter the full path to the image file: \")\n",
        "image = Image.open(Image_path)  # Load the image\n",
        "image\n",
        "prompt1 = \"\"\"This image contains a human organ image  along with some notes and graph\n",
        "          Given the Medical image, \"Analyze the given medical image and extract\n",
        "          the patient details from image and return the results in formated style.\n",
        "\n",
        "    Patient_Detail: [\n",
        "    \"Name\",\n",
        "    \"PRN-NO\",\n",
        "    \"Isotop\",\n",
        "    \"Scan Date\",\n",
        "    ...\n",
        "  ]\n",
        "}\n",
        "          \"\"\"\n",
        "prompt = \"\"\"This image contains a human organ image  along with some notes and graph\n",
        "          Given the Medical image, describe the parameters  thoroughly as possible based on what you\n",
        "          see in the image, \"Analyze the given medical image, which includes a human organ along with notes and a graph. Provide a detailed description of the organ, including its features, intensity, and any observed parameters.\n",
        "          Based on the image, by this analysis a conclusive advice given to Patient  and return the results in JSON format.\n",
        "\n",
        "    DESCRIPTION: \"\\n<Provide a detailed description of the organ>\\n\",\n",
        "    PRIDICTION: \"\\n<Provide a provisional or confirmed diagnosis>\\n,\n",
        "    ABNORMALITIES:<Provide a detailed description of the organ>\",\n",
        "    if organ is \"Thyroid\" and 50 to 60mm then it is normal ,  take following quantities\"\n",
        "\n",
        "    QAUNTITATIVE MEASUREMENTS:[\n",
        "      \"Organ size\",\n",
        "      \"Region of Intrest\",\n",
        "      \"Intensity\",\n",
        "      \"Number of Nodules\",\n",
        "      \"standard uptake value\",\n",
        "      \"Type of Radiolabeled substance\",\n",
        "      ...\n",
        "    ]\n",
        "    Organ Features: [\n",
        "    \"feature1\",\n",
        "    \"feature2\",\n",
        "    \"feature3\",\n",
        "    \"feature4\",\n",
        "    ...\n",
        "    ]\n",
        "    if organ is \"Renal\" and 40 to 50% uptake then it is normal ,  take following quantities\"\n",
        "\n",
        "    QAUNTITATIVE MEASUREMENTS:[\n",
        "      \"Organ size\",\n",
        "      \"Region of Intrest\",\n",
        "      \"Intensity\",\n",
        "      \"Blood perfusion Percent\",\n",
        "      \"Uptake% value,\n",
        "      ...\n",
        "    ]\n",
        "    Organ Features: [\n",
        "    \"feature1\",\n",
        "    \"feature2\",\n",
        "    \"feature3\",\n",
        "    \"feature4\",\n",
        "    ...\n",
        "  ]\n",
        "  if organ is \"Bone Scan\"  ,  take following quantities\"\n",
        "\n",
        "    QAUNTITATIVE MEASUREMENTS:[\n",
        "      \"Organ size\",\n",
        "      \"Region of Intrest\",\n",
        "      \"Intensity\",\n",
        "      \"Number of counts\",\n",
        "      standard uptake value,\n",
        "      ...\n",
        "    ]\n",
        "    Organ Features: [\n",
        "    \"feature1\",\n",
        "    \"feature2\",\n",
        "    \"feature3\",\n",
        "    \"feature4\",\n",
        "    ...\n",
        "    ]\n",
        "}\n",
        "\n",
        "          \"\"\"\n",
        "model_gen= genai.GenerativeModel('gemini-1.5-flash')\n",
        "response_gen= model_gen.generate_content([prompt, image])\n",
        "response_gen1= model_gen.generate_content([prompt1, image])\n",
        "#print(response.text)\n",
        "\n",
        "\n",
        "#print(f\"\\n Human Prompt:-{prompt}\")\n",
        "#print(f\"\\nResponse: {response_gen.text}\\n\")\n"
      ],
      "metadata": {
        "id": "JgvfLTPWah_e"
      },
      "execution_count": null,
      "outputs": []
    },
    {
      "cell_type": "code",
      "execution_count": null,
      "metadata": {
        "id": "tNWL_h8Bgu59"
      },
      "outputs": [],
      "source": [
        "# Function to generate a medical report\n",
        "def generate_report(scan_id, scan_name, diagnosis, metrics, doctor_name):\n",
        "    report = f\"\"\"\n",
        "    ============================================================================\n",
        "                     NAME OF MEDICAL CENTRE, PAKISTAN\n",
        "                (NMI- Artifical Inteligence Image Reader Report)\n",
        "    ============================================================================\n",
        "    Diagnosis          : {diagnosis}\n",
        "\n",
        "   Patient-Details:  {response_gen1.text}\n",
        "   ----------------------------------------------------------------------------\n",
        "\n",
        "\n",
        "    Clinical Feature:\n",
        "    ----------------------------------------------------------------------------\n",
        "    Mean Intensity     : {metrics[\"Mean Intensity\"]:.4f}\n",
        "    Standard Deviation : {metrics[\"Standard Deviation\"]:.4f}\n",
        "    Minimum Intensity  : {metrics[\"Minimum Intensity\"]:.4f}\n",
        "    Maximum Intensity  : {metrics[\"Maximum Intensity\"]:.4f}\n",
        "\n",
        "    Analysis:\n",
        "    ----------------------------------------------------------------------------\n",
        "    {response_gen.text}\n",
        "\n",
        "\n",
        "\n",
        "    Report Generated by:\n",
        "    Doctor             : {doctor_name}\n",
        "    Date               : {datetime.datetime.now().strftime(\"%Y-%m-%d %H:%M:%S\")}\n",
        "    ============================================================================\n",
        "                                                      Head of the Establishment\n",
        "                                                    Consultant Nuclear Physician\n",
        "    \"\"\"\n",
        "    return report"
      ]
    },
    {
      "cell_type": "code",
      "execution_count": null,
      "metadata": {
        "collapsed": true,
        "id": "k9skrseWRdXS"
      },
      "outputs": [],
      "source": [
        "def process_and_generate_reports(file_paths, titles, doctor_name):\n",
        "    reports = []  # Initialize an empty list to store the reports\n",
        "    rows, cols = 2, 3\n",
        "    fig, axes = plt.subplots(rows, cols, figsize=(12, 8))\n",
        "    axes = axes.flatten()\n",
        "\n",
        "    for i, (file_path, title) in enumerate(zip(file_paths, titles)):\n",
        "        if i >= len(axes):\n",
        "            break\n",
        "\n",
        "        img = load_image(file_path)\n",
        "        imgname=titles[i]\n",
        "        normalized_img = normalize_image(img)\n",
        "        diagnosis = diagnose_image(normalized_img)\n",
        "        metrics = calculate_metrics(normalized_img)\n",
        "        scan_id = i + 1\n",
        "\n",
        "        # Append report\n",
        "        report = generate_report(scan_id, title, diagnosis, metrics, doctor_name)\n",
        "        reports.append(report)\n",
        "\n",
        "        # Display image with diagnosis\n",
        "        ax = axes[i]\n",
        "        im = ax.imshow(normalized_img, cmap=\"gray\")\n",
        "        ax.set_title(f\"{title}\\n{diagnosis}\", fontsize=10)\n",
        "        ax.axis(\"off\")\n",
        "\n",
        "    # Hide unused axes\n",
        "    for j in range(i + 1, len(axes)):\n",
        "        axes[j].axis(\"off\")\n",
        "\n",
        "    # Add colorbar\n",
        "    plt.tight_layout()\n",
        "    plt.show()\n",
        "\n",
        "    return reports  # Return the generated reports list\n"
      ]
    },
    {
      "cell_type": "code",
      "execution_count": null,
      "metadata": {
        "colab": {
          "base_uri": "https://localhost:8080/",
          "height": 679
        },
        "collapsed": true,
        "id": "qsKvtF_XqGd1",
        "outputId": "0fb54e11-7ea1-44a2-ddb1-062bcd05b0af"
      },
      "outputs": [
        {
          "name": "stdout",
          "output_type": "stream",
          "text": [
            "Duty DoctorDr.Asma\n"
          ]
        },
        {
          "output_type": "display_data",
          "data": {
            "text/plain": [
              "<Figure size 1200x800 with 6 Axes>"
            ],
            "image/png": "[encoded data removed]"
          },
          "metadata": {}
        },
        {
          "output_type": "stream",
          "name": "stdout",
          "text": [
            "Reports generated and saved as 'medical_reports.txt'.\n"
          ]
        }
      ],
      "source": [
        "\n",
        "#Meta Data\n",
        "\n",
        "# Doctor's name\n",
        "doctor_name = input(\"Duty Doctor\")  # Replace with actual doctor's name\n",
        "\n",
        "# Process the images and generate reports\n",
        "reports = process_and_generate_reports(file_paths, titles, doctor_name)\n",
        "\n",
        "\n",
        "# Save reports to a text file\n",
        "with open(\"medical_reports.txt\", \"w\") as f:\n",
        "    for report in reports:\n",
        "        f.write(report + \"\\n\\n\")  # Use the correct `report` variable\n",
        "print(\"Reports generated and saved as 'medical_reports.txt'.\")"
      ]
    },
    {
      "cell_type": "code",
      "source": [
        "from PIL import Image\n",
        "\n",
        "image_path = 'images/MAG3scan.jpg'\n",
        "image = Image.open(image_path)  # Load the image"
      ],
      "metadata": {
        "id": "CGApEN9rWU6P"
      },
      "execution_count": null,
      "outputs": []
    },
    {
      "cell_type": "code",
      "source": [
        "prompt = \"\"\"This image contains a human organ image  along with some notes and graph\n",
        "          Given the Medical image, describe the parameters  thoroughly as possible based on what you\n",
        "          see in the image, making sure to note all of the organ features and intensity and make simple RENOGRAM. Return output in json format:\n",
        "          {description:, diagnosis,Renogram features: [feature1, feature2, feature3, etc]}\"\"\"\n"
      ],
      "metadata": {
        "collapsed": true,
        "id": "YuPFij3GWD3V"
      },
      "execution_count": null,
      "outputs": []
    },
    {
      "cell_type": "code",
      "source": [
        "model_gen= genai.GenerativeModel('gemini-1.5-flash')\n",
        "response_gen= model_gen.generate_content([prompt, image])\n",
        "#print(response.text)\n",
        "\n",
        "\n",
        "print(f\"\\n Human Prompt:-{prompt}\")\n",
        "print(f\"\\nResponse: {response_gen.text}\\n\")"
      ],
      "metadata": {
        "colab": {
          "base_uri": "https://localhost:8080/",
          "height": 402
        },
        "id": "w5FQ8axXWcwu",
        "outputId": "b8a45540-3345-44ff-fe8d-14fc13bbf871"
      },
      "execution_count": null,
      "outputs": [
        {
          "output_type": "stream",
          "name": "stdout",
          "text": [
            "\n",
            " Human Prompt:-This image contains a human organ image  along with some notes and graph\n",
            "          Given the Medical image, describe the parameters  thoroughly as possible based on what you\n",
            "          see in the image, making sure to note all of the organ features and intensity and make simple RENOGRAM. Return output in json format:\n",
            "          {description:, diagnosis,Renogram features: [feature1, feature2, feature3, etc]}\n",
            "\n",
            "Response: ```json\n",
            "{\n",
            "  \"description\": \"The image appears to be a renal scan, likely a diuretic renogram, showing the uptake and excretion of a radioisotope by the kidneys.  The scan displays two kidneys, with a central region representing the bladder. The kidneys exhibit asymmetry in radioisotope uptake and excretion. The left kidney shows significantly reduced uptake and excretion compared to the right kidney.  There is also evidence of delayed excretion in both kidneys, especially the left one. The image quality is somewhat grainy, making precise measurements difficult. The bladder shows some activity but is not excessively prominent.\",\n",
            "  \"diagnosis\": \"Based on the apparent asymmetry in uptake and excretion, and the delayed excretion, a possible diagnosis is unilateral renal obstruction (more likely affecting the left kidney) or reduced renal function. More information, such as the time sequence of the images and patient clinical data, is needed for a definitive diagnosis. Other possibilities include ureteral obstruction, but the presentation leans more towards a problem with renal function in the left kidney.\",\n",
            "  \"Renogram_features\": [\n",
            "    \"Asymmetrical uptake between kidneys\",\n",
            "    \"Reduced uptake in the left kidney\",\n",
            "    \"Delayed excretion in both kidneys, significantly more pronounced on the left side\",\n",
            "    \"Possible evidence of unilateral obstruction (left kidney)\",\n",
            "    \"Poor image quality hindering precise quantification\"\n",
            "  ]\n",
            "}\n",
            "```\n",
            "\n",
            "\n"
          ]
        }
      ]
    }
  ],
  "metadata": {
    "accelerator": "GPU",
    "colab": {
      "gpuType": "T4",
      "provenance": [],
      "include_colab_link": true
    },
    "kernelspec": {
      "display_name": "Python 3",
      "name": "python3"
    },
    "language_info": {
      "name": "python"
    },
    "widgets": {
      "application/vnd.jupyter.widget-state+json": {
        "f30aa5ec735b4f449823f0b357584d54": {
          "model_module": "@jupyter-widgets/controls",
          "model_name": "HBoxModel",
          "model_module_version": "1.5.0",
          "state": {
            "_dom_classes": [],
            "_model_module": "@jupyter-widgets/controls",
            "_model_module_version": "1.5.0",
            "_model_name": "HBoxModel",
            "_view_count": null,
            "_view_module": "@jupyter-widgets/controls",
            "_view_module_version": "1.5.0",
            "_view_name": "HBoxView",
            "box_style": "",
            "children": [
              "IPY_MODEL_69abff68d0ab4d21a5dd0152aa7b3e7e",
              "IPY_MODEL_36c83e187e6e4d5c9797bd45f6319f94",
              "IPY_MODEL_97da6f3f19a347d385f75ba231feff11"
            ],
            "layout": "IPY_MODEL_2373a5d27f5c48ed86f49bcfdcd6cf63"
          }
        },
        "69abff68d0ab4d21a5dd0152aa7b3e7e": {
          "model_module": "@jupyter-widgets/controls",
          "model_name": "HTMLModel",
          "model_module_version": "1.5.0",
          "state": {
            "_dom_classes": [],
            "_model_module": "@jupyter-widgets/controls",
            "_model_module_version": "1.5.0",
            "_model_name": "HTMLModel",
            "_view_count": null,
            "_view_module": "@jupyter-widgets/controls",
            "_view_module_version": "1.5.0",
            "_view_name": "HTMLView",
            "description": "",
            "description_tooltip": null,
            "layout": "IPY_MODEL_0a8ca3c26af24f00a2d701f8e9467e3b",
            "placeholder": "​",
            "style": "IPY_MODEL_056205f33aa8481db63830d4494fe4c7",
            "value": "100%"
          }
        },
        "36c83e187e6e4d5c9797bd45f6319f94": {
          "model_module": "@jupyter-widgets/controls",
          "model_name": "FloatProgressModel",
          "model_module_version": "1.5.0",
          "state": {
            "_dom_classes": [],
            "_model_module": "@jupyter-widgets/controls",
            "_model_module_version": "1.5.0",
            "_model_name": "FloatProgressModel",
            "_view_count": null,
            "_view_module": "@jupyter-widgets/controls",
            "_view_module_version": "1.5.0",
            "_view_name": "ProgressView",
            "bar_style": "success",
            "description": "",
            "description_tooltip": null,
            "layout": "IPY_MODEL_78678d98738545bda2a187e2112c7878",
            "max": 111898327,
            "min": 0,
            "orientation": "horizontal",
            "style": "IPY_MODEL_d1bbe49d518948dfab2f61845753e38b",
            "value": 111898327
          }
        },
        "97da6f3f19a347d385f75ba231feff11": {
          "model_module": "@jupyter-widgets/controls",
          "model_name": "HTMLModel",
          "model_module_version": "1.5.0",
          "state": {
            "_dom_classes": [],
            "_model_module": "@jupyter-widgets/controls",
            "_model_module_version": "1.5.0",
            "_model_name": "HTMLModel",
            "_view_count": null,
            "_view_module": "@jupyter-widgets/controls",
            "_view_module_version": "1.5.0",
            "_view_name": "HTMLView",
            "description": "",
            "description_tooltip": null,
            "layout": "IPY_MODEL_044ac13b189d4cb499e730ae7a2a8df3",
            "placeholder": "​",
            "style": "IPY_MODEL_511bf2697f72450d8e9727ead9e8d3f4",
            "value": " 107M/107M [00:01&lt;00:00, 92.0MB/s]"
          }
        },
        "2373a5d27f5c48ed86f49bcfdcd6cf63": {
          "model_module": "@jupyter-widgets/base",
          "model_name": "LayoutModel",
          "model_module_version": "1.2.0",
          "state": {
            "_model_module": "@jupyter-widgets/base",
            "_model_module_version": "1.2.0",
            "_model_name": "LayoutModel",
            "_view_count": null,
            "_view_module": "@jupyter-widgets/base",
            "_view_module_version": "1.2.0",
            "_view_name": "LayoutView",
            "align_content": null,
            "align_items": null,
            "align_self": null,
            "border": null,
            "bottom": null,
            "display": null,
            "flex": null,
            "flex_flow": null,
            "grid_area": null,
            "grid_auto_columns": null,
            "grid_auto_flow": null,
            "grid_auto_rows": null,
            "grid_column": null,
            "grid_gap": null,
            "grid_row": null,
            "grid_template_areas": null,
            "grid_template_columns": null,
            "grid_template_rows": null,
            "height": null,
            "justify_content": null,
            "justify_items": null,
            "left": null,
            "margin": null,
            "max_height": null,
            "max_width": null,
            "min_height": null,
            "min_width": null,
            "object_fit": null,
            "object_position": null,
            "order": null,
            "overflow": null,
            "overflow_x": null,
            "overflow_y": null,
            "padding": null,
            "right": null,
            "top": null,
            "visibility": null,
            "width": null
          }
        },
        "0a8ca3c26af24f00a2d701f8e9467e3b": {
          "model_module": "@jupyter-widgets/base",
          "model_name": "LayoutModel",
          "model_module_version": "1.2.0",
          "state": {
            "_model_module": "@jupyter-widgets/base",
            "_model_module_version": "1.2.0",
            "_model_name": "LayoutModel",
            "_view_count": null,
            "_view_module": "@jupyter-widgets/base",
            "_view_module_version": "1.2.0",
            "_view_name": "LayoutView",
            "align_content": null,
            "align_items": null,
            "align_self": null,
            "border": null,
            "bottom": null,
            "display": null,
            "flex": null,
            "flex_flow": null,
            "grid_area": null,
            "grid_auto_columns": null,
            "grid_auto_flow": null,
            "grid_auto_rows": null,
            "grid_column": null,
            "grid_gap": null,
            "grid_row": null,
            "grid_template_areas": null,
            "grid_template_columns": null,
            "grid_template_rows": null,
            "height": null,
            "justify_content": null,
            "justify_items": null,
            "left": null,
            "margin": null,
            "max_height": null,
            "max_width": null,
            "min_height": null,
            "min_width": null,
            "object_fit": null,
            "object_position": null,
            "order": null,
            "overflow": null,
            "overflow_x": null,
            "overflow_y": null,
            "padding": null,
            "right": null,
            "top": null,
            "visibility": null,
            "width": null
          }
        },
        "056205f33aa8481db63830d4494fe4c7": {
          "model_module": "@jupyter-widgets/controls",
          "model_name": "DescriptionStyleModel",
          "model_module_version": "1.5.0",
          "state": {
            "_model_module": "@jupyter-widgets/controls",
            "_model_module_version": "1.5.0",
            "_model_name": "DescriptionStyleModel",
            "_view_count": null,
            "_view_module": "@jupyter-widgets/base",
            "_view_module_version": "1.2.0",
            "_view_name": "StyleView",
            "description_width": ""
          }
        },
        "78678d98738545bda2a187e2112c7878": {
          "model_module": "@jupyter-widgets/base",
          "model_name": "LayoutModel",
          "model_module_version": "1.2.0",
          "state": {
            "_model_module": "@jupyter-widgets/base",
            "_model_module_version": "1.2.0",
            "_model_name": "LayoutModel",
            "_view_count": null,
            "_view_module": "@jupyter-widgets/base",
            "_view_module_version": "1.2.0",
            "_view_name": "LayoutView",
            "align_content": null,
            "align_items": null,
            "align_self": null,
            "border": null,
            "bottom": null,
            "display": null,
            "flex": null,
            "flex_flow": null,
            "grid_area": null,
            "grid_auto_columns": null,
            "grid_auto_flow": null,
            "grid_auto_rows": null,
            "grid_column": null,
            "grid_gap": null,
            "grid_row": null,
            "grid_template_areas": null,
            "grid_template_columns": null,
            "grid_template_rows": null,
            "height": null,
            "justify_content": null,
            "justify_items": null,
            "left": null,
            "margin": null,
            "max_height": null,
            "max_width": null,
            "min_height": null,
            "min_width": null,
            "object_fit": null,
            "object_position": null,
            "order": null,
            "overflow": null,
            "overflow_x": null,
            "overflow_y": null,
            "padding": null,
            "right": null,
            "top": null,
            "visibility": null,
            "width": null
          }
        },
        "d1bbe49d518948dfab2f61845753e38b": {
          "model_module": "@jupyter-widgets/controls",
          "model_name": "ProgressStyleModel",
          "model_module_version": "1.5.0",
          "state": {
            "_model_module": "@jupyter-widgets/controls",
            "_model_module_version": "1.5.0",
            "_model_name": "ProgressStyleModel",
            "_view_count": null,
            "_view_module": "@jupyter-widgets/base",
            "_view_module_version": "1.2.0",
            "_view_name": "StyleView",
            "bar_color": null,
            "description_width": ""
          }
        },
        "044ac13b189d4cb499e730ae7a2a8df3": {
          "model_module": "@jupyter-widgets/base",
          "model_name": "LayoutModel",
          "model_module_version": "1.2.0",
          "state": {
            "_model_module": "@jupyter-widgets/base",
            "_model_module_version": "1.2.0",
            "_model_name": "LayoutModel",
            "_view_count": null,
            "_view_module": "@jupyter-widgets/base",
            "_view_module_version": "1.2.0",
            "_view_name": "LayoutView",
            "align_content": null,
            "align_items": null,
            "align_self": null,
            "border": null,
            "bottom": null,
            "display": null,
            "flex": null,
            "flex_flow": null,
            "grid_area": null,
            "grid_auto_columns": null,
            "grid_auto_flow": null,
            "grid_auto_rows": null,
            "grid_column": null,
            "grid_gap": null,
            "grid_row": null,
            "grid_template_areas": null,
            "grid_template_columns": null,
            "grid_template_rows": null,
            "height": null,
            "justify_content": null,
            "justify_items": null,
            "left": null,
            "margin": null,
            "max_height": null,
            "max_width": null,
            "min_height": null,
            "min_width": null,
            "object_fit": null,
            "object_position": null,
            "order": null,
            "overflow": null,
            "overflow_x": null,
            "overflow_y": null,
            "padding": null,
            "right": null,
            "top": null,
            "visibility": null,
            "width": null
          }
        },
        "511bf2697f72450d8e9727ead9e8d3f4": {
          "model_module": "@jupyter-widgets/controls",
          "model_name": "DescriptionStyleModel",
          "model_module_version": "1.5.0",
          "state": {
            "_model_module": "@jupyter-widgets/controls",
            "_model_module_version": "1.5.0",
            "_model_name": "DescriptionStyleModel",
            "_view_count": null,
            "_view_module": "@jupyter-widgets/base",
            "_view_module_version": "1.2.0",
            "_view_name": "StyleView",
            "description_width": ""
          }
        }
      }
    }
  },
  "nbformat": 4,
  "nbformat_minor": 0
}